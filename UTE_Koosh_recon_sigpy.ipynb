{
 "cells": [
  {
   "cell_type": "markdown",
   "metadata": {},
   "source": [
    "# Gridding and PICS Reconstruction for Philips UTE Koosh Acquisition\n",
    "* Gridding / NuFFT\n",
    "    * mathematically derived density compensation factor\n",
    "    * sigpy dcf\n",
    "* JSENSE \n",
    "* PICS\n",
    "    * Ecalib & PICS"
   ]
  },
  {
   "cell_type": "code",
   "execution_count": null,
   "metadata": {},
   "outputs": [],
   "source": [
    "import numpy as np\n",
    "%matplotlib qt\n",
    "import sigpy.plot as pl\n",
    "import sigpy as sp"
   ]
  },
  {
   "cell_type": "code",
   "execution_count": null,
   "metadata": {},
   "outputs": [],
   "source": [
    "# load data & trajectory saved by gpilab\n",
    "file_dir = '/path_to_file/prefix_'\n",
    "data_dir = file_dir + 'data.npy'\n",
    "traj_dir = file_dir + 'traj.npy'\n",
    "data = np.load(data_dir)\n",
    "traj = np.load(traj_dir)"
   ]
  },
  {
   "cell_type": "code",
   "execution_count": null,
   "metadata": {},
   "outputs": [],
   "source": [
    "# scale fov differently in each direction \n",
    "fov_scale = np.array([0.7, 0.7, 1.3]) # philips orientation [S/I, A/P, L/R]\n",
    "fov_scale = fov_scale[..., np.newaxis, np.newaxis]\n",
    "traj_scale = traj * fov_scale"
   ]
  },
  {
   "cell_type": "code",
   "execution_count": null,
   "metadata": {},
   "outputs": [],
   "source": [
    "# transpose data & traj\n",
    "data_t = np.squeeze(data.T)\n",
    "traj_scale_t = np.real(traj_scale.T)"
   ]
  },
  {
   "cell_type": "markdown",
   "metadata": {},
   "source": [
    "NuFFT Gridding Recon"
   ]
  },
  {
   "cell_type": "code",
   "execution_count": null,
   "metadata": {},
   "outputs": [],
   "source": [
    "# sigpy dcf\n",
    "import sigpy.mri as mr\n",
    "dcf2 = mr.dcf.pipe_menon_dcf(traj_scale_t)"
   ]
  },
  {
   "cell_type": "code",
   "execution_count": null,
   "metadata": {},
   "outputs": [],
   "source": [
    "# gridding\n",
    "recon_array2 = [sp.nufft_adjoint(data_t[n,:,:] * dcf2, traj_scale_t) for n in range(data_t.shape[0]) ]\n",
    "recon2 = np.stack(recon_array2, axis=0) \n",
    "recon_sos2 = np.sum(np.abs(recon2)**2, axis=0)**0.5 # Sum of Square\n",
    "np.save(file_dir + \"recon_sos2.npy\", recon_sos2)\n",
    "pl.ImagePlot(recon_sos2, title='NuFFT Reconstruction', x = -1, y = -3)"
   ]
  },
  {
   "cell_type": "markdown",
   "metadata": {},
   "source": [
    "JSENSE Recon"
   ]
  },
  {
   "cell_type": "code",
   "execution_count": null,
   "metadata": {},
   "outputs": [],
   "source": [
    "# maps estimation\n",
    "ksp = sp.fft(recon2, axes = [1,2,3])\n",
    "mps = mr.app.JsenseRecon(ksp).run()"
   ]
  },
  {
   "cell_type": "code",
   "execution_count": null,
   "metadata": {},
   "outputs": [],
   "source": [
    "lamda = 0.01\n",
    "img_sense = mr.app.SenseRecon(ksp, mps, lamda=lamda).run()\n",
    "np.save(file_dir + \"recon_sense.npy\", img_sense)\n",
    "pl.ImagePlot(img_sense, title='SENSE Reconstruction', x = -1, y = -3)"
   ]
  },
  {
   "cell_type": "markdown",
   "metadata": {},
   "source": [
    "PICS l1 wavelet regularized Recon"
   ]
  },
  {
   "cell_type": "code",
   "execution_count": null,
   "metadata": {},
   "outputs": [],
   "source": [
    "lamda = 0.005\n",
    "img_l1wav = mr.app.L1WaveletRecon(ksp, mps, lamda).run()\n",
    "np.save(file_dir + \"recon_l1wav.npy\", img_l1wav)\n",
    "pl.ImagePlot(img_l1wav, title='PICS L1 Wavelet Regularized Reconstruction', x = -1, y = -3)"
   ]
  },
  {
   "cell_type": "code",
   "execution_count": null,
   "metadata": {},
   "outputs": [],
   "source": []
  }
 ],
 "metadata": {
  "kernelspec": {
   "display_name": "Python [conda env:gpi2] *",
   "language": "python",
   "name": "conda-env-gpi2-py"
  },
  "language_info": {
   "codemirror_mode": {
    "name": "ipython",
    "version": 3
   },
   "file_extension": ".py",
   "mimetype": "text/x-python",
   "name": "python",
   "nbconvert_exporter": "python",
   "pygments_lexer": "ipython3",
   "version": "3.7.8"
  }
 },
 "nbformat": 4,
 "nbformat_minor": 4
}
